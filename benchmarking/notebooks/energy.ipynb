{
 "cells": [
  {
   "cell_type": "code",
   "execution_count": 2,
   "metadata": {},
   "outputs": [],
   "source": [
    "import numpy as np\n",
    "import pandas as pd\n",
    "import matplotlib.pyplot as plt\n",
    "from pandas.plotting import table \n",
    "\n",
    "plt.rcParams['font.family'] = 'Arial'\n",
    "plt.rcParams['font.size'] = 12\n"
   ]
  },
  {
   "cell_type": "code",
   "execution_count": 8,
   "metadata": {},
   "outputs": [
    {
     "data": {
      "text/html": [
       "<div>\n",
       "<style scoped>\n",
       "    .dataframe tbody tr th:only-of-type {\n",
       "        vertical-align: middle;\n",
       "    }\n",
       "\n",
       "    .dataframe tbody tr th {\n",
       "        vertical-align: top;\n",
       "    }\n",
       "\n",
       "    .dataframe thead th {\n",
       "        text-align: right;\n",
       "    }\n",
       "</style>\n",
       "<table border=\"1\" class=\"dataframe\">\n",
       "  <thead>\n",
       "    <tr style=\"text-align: right;\">\n",
       "      <th></th>\n",
       "      <th>Expensive algorithm (GPU)</th>\n",
       "      <th>Cheap algorithm (GPU)</th>\n",
       "      <th>Expensive algorithm (CPU)</th>\n",
       "      <th>Cheap algorithm (CPU)</th>\n",
       "    </tr>\n",
       "  </thead>\n",
       "  <tbody>\n",
       "    <tr>\n",
       "      <th>mean</th>\n",
       "      <td>139.76</td>\n",
       "      <td>139.76</td>\n",
       "      <td>34.75</td>\n",
       "      <td>35.62</td>\n",
       "    </tr>\n",
       "    <tr>\n",
       "      <th>min</th>\n",
       "      <td>137.88</td>\n",
       "      <td>138.28</td>\n",
       "      <td>32.21</td>\n",
       "      <td>33.04</td>\n",
       "    </tr>\n",
       "    <tr>\n",
       "      <th>25%</th>\n",
       "      <td>139.43</td>\n",
       "      <td>139.3</td>\n",
       "      <td>34.33</td>\n",
       "      <td>34.29</td>\n",
       "    </tr>\n",
       "    <tr>\n",
       "      <th>75%</th>\n",
       "      <td>140.12</td>\n",
       "      <td>140.15</td>\n",
       "      <td>35.91</td>\n",
       "      <td>35.71</td>\n",
       "    </tr>\n",
       "    <tr>\n",
       "      <th>max</th>\n",
       "      <td>141.17</td>\n",
       "      <td>141.62</td>\n",
       "      <td>38.2</td>\n",
       "      <td>41.81</td>\n",
       "    </tr>\n",
       "  </tbody>\n",
       "</table>\n",
       "</div>"
      ],
      "text/plain": [
       "      Expensive algorithm (GPU)  Cheap algorithm (GPU)  \\\n",
       "mean                     139.76                 139.76   \n",
       "min                      138.28                 137.88   \n",
       "25%                      139.38                 139.43   \n",
       "75%                      140.15                 140.12   \n",
       "max                      141.62                 141.17   \n",
       "\n",
       "      Expensive algorithm (CPU)  Cheap algorithm (CPU)  \n",
       "mean                      59.75                  59.75  \n",
       "min                       58.04                  57.88  \n",
       "25%                       59.29                  59.33  \n",
       "75%                       60.17                  60.21  \n",
       "max                       61.81                  61.80  "
      ]
     },
     "execution_count": 8,
     "metadata": {},
     "output_type": "execute_result"
    }
   ],
   "source": [
    "df = pd.DataFrame({\n",
    "  'Expensive algorithm (GPU)': pd.read_csv('../data/clean/power/gpu-bilinear-interpolation.csv')['power.draw.instant'],\n",
    "  'Cheap algorithm (GPU)': pd.read_csv('../data/clean/power/gpu-nearest-neighbor.csv')['power.draw.instant'],\n",
    "  'Expensive algorithm (CPU)': pd.read_csv('../data/clean/power/cpu-bilinear-interpolation.csv')['power.draw.instant'],\n",
    "  'Cheap algorithm (CPU)': pd.read_csv('../data/clean/power/cpu-nearest-neighbor.csv')['power.draw.instant'],\n",
    "});\n",
    "\n",
    "t = df.describe() \\\n",
    "  .drop(['count', 'std', '50%']) \\\n",
    "  .round(2)\n",
    "\n",
    "t"
   ]
  },
  {
   "cell_type": "markdown",
   "metadata": {},
   "source": []
  }
 ],
 "metadata": {
  "kernelspec": {
   "display_name": ".venv",
   "language": "python",
   "name": "python3"
  },
  "language_info": {
   "codemirror_mode": {
    "name": "ipython",
    "version": 3
   },
   "file_extension": ".py",
   "mimetype": "text/x-python",
   "name": "python",
   "nbconvert_exporter": "python",
   "pygments_lexer": "ipython3",
   "version": "3.13.0"
  }
 },
 "nbformat": 4,
 "nbformat_minor": 2
}
